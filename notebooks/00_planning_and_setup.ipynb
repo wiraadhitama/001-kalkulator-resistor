{
 "cells": [
  {
   "cell_type": "code",
   "execution_count": null,
   "id": "3872e137-d26b-4a99-99db-3f361190fdf6",
   "metadata": {},
   "outputs": [],
   "source": [
    "# Project Planning\n",
    "- Deskripsi proyek\n",
    "    Project: Kalkulator Resistor 3, 4, 5, dan 6 bands\n",
    "    Platform Dev: WSL2 (Ubuntu)\n",
    "    Workflow: Linux CLI + Git + Jupyter Notebook Dokumentasi\n",
    "- Tujuan\n",
    "    Menyiapkan environment, repositori Git, dan kerangka dokumentasi.\n",
    "- Langkah-langkah\n",
    "    - WSL2 aktif\n",
    "    - Python 3.10+ terinstal\n",
    "    - Git & GitHub siap\n",
    "    - Repo GitHub dibuat\n",
    "    - Notebook 00_planning_and_setup.ipynb dibuat"
   ]
  },
  {
   "cell_type": "code",
   "execution_count": 1,
   "id": "43122e2c-5809-4975-bc81-725b73aedfd5",
   "metadata": {},
   "outputs": [
    {
     "name": "stdout",
     "output_type": "stream",
     "text": [
      "Python 3.12.3\n",
      "anyio==4.10.0\n",
      "argon2-cffi==25.1.0\n",
      "argon2-cffi-bindings==25.1.0\n",
      "arrow==1.3.0\n",
      "asttokens==3.0.0\n",
      "async-lru==2.0.5\n",
      "attrs==25.3.0\n",
      "babel==2.17.0\n",
      "beautifulsoup4==4.13.4\n",
      "bleach==6.2.0\n",
      "certifi==2025.8.3\n",
      "cffi==1.17.1\n",
      "charset-normalizer==3.4.3\n",
      "comm==0.2.3\n",
      "debugpy==1.8.16\n",
      "decorator==5.2.1\n",
      "defusedxml==0.7.1\n",
      "executing==2.2.0\n",
      "fastjsonschema==2.21.1\n",
      "fqdn==1.5.1\n",
      "h11==0.16.0\n",
      "httpcore==1.0.9\n",
      "httpx==0.28.1\n",
      "idna==3.10\n",
      "ipykernel==6.30.1\n",
      "ipython==9.4.0\n",
      "ipython_pygments_lexers==1.1.1\n",
      "isoduration==20.11.0\n",
      "jedi==0.19.2\n",
      "Jinja2==3.1.6\n",
      "json5==0.12.0\n",
      "jsonpointer==3.0.0\n",
      "jsonschema==4.25.0\n",
      "jsonschema-specifications==2025.4.1\n",
      "jupyter-events==0.12.0\n",
      "jupyter-lsp==2.2.6\n",
      "jupyter_client==8.6.3\n",
      "jupyter_core==5.8.1\n",
      "jupyter_server==2.16.0\n",
      "jupyter_server_terminals==0.5.3\n",
      "jupyterlab==4.4.5\n",
      "jupyterlab_pygments==0.3.0\n",
      "jupyterlab_server==2.27.3\n",
      "lark==1.2.2\n",
      "MarkupSafe==3.0.2\n",
      "matplotlib-inline==0.1.7\n",
      "mistune==3.1.3\n",
      "nbclient==0.10.2\n",
      "nbconvert==7.16.6\n",
      "nbformat==5.10.4\n",
      "nest-asyncio==1.6.0\n",
      "notebook==7.4.5\n",
      "notebook_shim==0.2.4\n",
      "overrides==7.7.0\n",
      "packaging==25.0\n",
      "pandocfilters==1.5.1\n",
      "parso==0.8.4\n",
      "pexpect==4.9.0\n",
      "platformdirs==4.3.8\n",
      "prometheus_client==0.22.1\n",
      "prompt_toolkit==3.0.51\n",
      "psutil==7.0.0\n",
      "ptyprocess==0.7.0\n",
      "pure_eval==0.2.3\n",
      "pycparser==2.22\n",
      "Pygments==2.19.2\n",
      "python-dateutil==2.9.0.post0\n",
      "python-json-logger==3.3.0\n",
      "PyYAML==6.0.2\n",
      "pyzmq==27.0.1\n",
      "referencing==0.36.2\n",
      "requests==2.32.4\n",
      "rfc3339-validator==0.1.4\n",
      "rfc3986-validator==0.1.1\n",
      "rfc3987-syntax==1.1.0\n",
      "rpds-py==0.27.0\n",
      "Send2Trash==1.8.3\n",
      "setuptools==80.9.0\n",
      "six==1.17.0\n",
      "sniffio==1.3.1\n",
      "soupsieve==2.7\n",
      "stack-data==0.6.3\n",
      "terminado==0.18.1\n",
      "tinycss2==1.4.0\n",
      "tornado==6.5.2\n",
      "traitlets==5.14.3\n",
      "types-python-dateutil==2.9.0.20250809\n",
      "typing_extensions==4.14.1\n",
      "uri-template==1.3.0\n",
      "urllib3==2.5.0\n",
      "wcwidth==0.2.13\n",
      "webcolors==24.11.1\n",
      "webencodings==0.5.1\n",
      "websocket-client==1.8.0\n",
      "Linux WiraAdhitama-TUF 6.6.87.2-microsoft-standard-WSL2 #1 SMP PREEMPT_DYNAMIC Thu Jun  5 18:30:46 UTC 2025 x86_64 x86_64 x86_64 GNU/Linux\n"
     ]
    }
   ],
   "source": [
    "!python3 --version\n",
    "!pip3 freeze\n",
    "!uname -a"
   ]
  },
  {
   "cell_type": "code",
   "execution_count": null,
   "id": "bcad068d-99be-4c88-b49f-30380c116bfc",
   "metadata": {},
   "outputs": [],
   "source": [
    "1. WSL (Ubuntu) sudah terinstall dan bisa diakses di Terminal / VSCode\n",
    "    sudo apt update && sudo apt upgrade -y"
   ]
  },
  {
   "cell_type": "code",
   "execution_count": null,
   "id": "e989624b-9f04-4039-b3d1-aa1b177c526a",
   "metadata": {},
   "outputs": [],
   "source": [
    "2. Python 3.10+ sudah terinstall di WSL2 (biasanya otomatis)\n",
    "    python3 --version"
   ]
  },
  {
   "cell_type": "code",
   "execution_count": null,
   "id": "4b943d59-6190-4673-98fc-db49961c694f",
   "metadata": {},
   "outputs": [],
   "source": [
    "3. Git sudah terpasang\n",
    "    git --version"
   ]
  },
  {
   "cell_type": "code",
   "execution_count": null,
   "id": "baa14fe9-2c7d-455a-a039-19fee296617a",
   "metadata": {},
   "outputs": [],
   "source": [
    "4. Create directory di Linux\n",
    "    ~/mlops-projects/001-kalkulator-resistor"
   ]
  },
  {
   "cell_type": "code",
   "execution_count": null,
   "id": "5d4e31b9-90f9-4262-a5cb-0cc84e6d8f42",
   "metadata": {},
   "outputs": [],
   "source": [
    "5. Create virtual environment\n",
    "    python3 -m venv .venv\n",
    "        nama virtual environment adalah .venv di akhir"
   ]
  },
  {
   "cell_type": "code",
   "execution_count": null,
   "id": "3ad780b7-2b88-4adf-90c1-0b75c0de7268",
   "metadata": {},
   "outputs": [],
   "source": [
    "6. Install Jupyter\n",
    "    harus aktifkan venv:\n",
    "        Ubuntu ada aturan PEP 668 yang melarang pip menginstall paket langsung ke sistem bawaan\n",
    "        source .venv/bin/activate\n",
    "    Install Jupyter\n",
    "    pip3 install notebook"
   ]
  },
  {
   "cell_type": "code",
   "execution_count": null,
   "id": "29d3c9e0-a55c-4c14-8c79-eff9c81c0fae",
   "metadata": {},
   "outputs": [],
   "source": [
    "7. Jalankan Jupyter Notebook\n",
    "    jupyter notebook --ip=0.0.0.0 --no browser --allow-root\n",
    "    Buka localhost dengan IP address di browser"
   ]
  },
  {
   "cell_type": "code",
   "execution_count": null,
   "id": "bbd2e00f-1b69-4cf0-8e79-f85b9ac2ea23",
   "metadata": {},
   "outputs": [],
   "source": [
    "8. Buat file bernama\n",
    "    00_planning_and_setup.ipynb"
   ]
  },
  {
   "cell_type": "code",
   "execution_count": null,
   "id": "62eb358f-8dc4-4cf5-9f8e-f3f4f367a29c",
   "metadata": {},
   "outputs": [],
   "source": [
    "9. Snapshot environment\n",
    "    !python3 --version\n",
    "    !pip3 freeze\n",
    "    !uname -a\n",
    "\n",
    "    klik Shift+Enter untuk execute command yang diawali \"!\"\n",
    "\n",
    "    Setelah selesai stop Jupyter\n",
    "    Ctrl + C di terminal"
   ]
  },
  {
   "cell_type": "code",
   "execution_count": null,
   "id": "1509c376-bcfc-4dc2-a5c7-51c818618f04",
   "metadata": {},
   "outputs": [],
   "source": [
    "10. Jalankan perintah Git\n",
    "    - Deactivate venv agar tidak ikut ter-staged (masuk ke GitHub)\n",
    "    git add 00_planning_and_setup.ipynb\n",
    "    git commit -m \"Step 0: initial planning and environment snapshot\"\n",
    "    - Lengkapi identitasnya jika ditolak\n",
    "    git config user.name \"user name\"\n",
    "    git config user.email \"xxxx@mail.com\"\n",
    "    - Git commit ulang"
   ]
  },
  {
   "cell_type": "code",
   "execution_count": null,
   "id": "1d9d3213-15fc-4207-a625-02732ad28330",
   "metadata": {},
   "outputs": [],
   "source": [
    "11. Git push\n",
    "    git push origin main\n",
    "    -> akan gagal karena butuh SSH Keys, langkah create:\n",
    "        a. Cek apakah sudah ada SSH key\n",
    "            ls -al ~/.ssh\n",
    "            jika ada biasanya id_rsa & id_rsa.pub atau id_ed25519 & id_ed25519.pub\n",
    "        b. Generate SSH key jika belum (gunakan ed25519 yang lebih aman dan cepat)\n",
    "            ssh-keygen -t ed25519 -C \"email_github_kamu@example.com\"\n",
    "        c. Jika tanya 'file to save the key' - Enter saja\n",
    "            lokasi default = ~/.ssh/id_ed25519\n",
    "        d. Jika tanya passphrase - Enter saja\n",
    "            hanya untuk extra security\n",
    "        e. Aktifkan SSH agent dan tambahkan key\\\n",
    "            eval \"$(ssh-agent -s)\"\n",
    "            ssh-add ~./.ssh/id_ed25519\n",
    "        f. Salin publik key ke GitHub \"Add new SSH key\"\n",
    "        g. Ubah remote URL repo ke SSH\n",
    "            Cek remote\n",
    "            git remote -v\n",
    "            Ubah ke format SSH\n",
    "            git remote set-url origin git@github:wiraadhitama/001-kalkulator-resistor.git\n",
    "        h. Tes koneksi SSH\n",
    "            ssh -T git@github.com"
   ]
  }
 ],
 "metadata": {
  "kernelspec": {
   "display_name": "Python 3 (ipykernel)",
   "language": "python",
   "name": "python3"
  },
  "language_info": {
   "codemirror_mode": {
    "name": "ipython",
    "version": 3
   },
   "file_extension": ".py",
   "mimetype": "text/x-python",
   "name": "python",
   "nbconvert_exporter": "python",
   "pygments_lexer": "ipython3",
   "version": "3.12.3"
  }
 },
 "nbformat": 4,
 "nbformat_minor": 5
}
