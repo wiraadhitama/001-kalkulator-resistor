{
 "cells": [
  {
   "cell_type": "code",
   "execution_count": null,
   "id": "ea28de35-4c4c-4a55-ac24-d45dd2dd9aee",
   "metadata": {},
   "outputs": [],
   "source": [
    "# Project Planning\n",
    "- Deskripsi proyek\n",
    "    Project: Kalkulator Resistor 3, 4, 5, dan 6 bands\n",
    "    Platform Dev: WSL2 (Ubuntu)\n",
    "    Workflow: Linux CLI + Git + Jupyter Notebook Dokumentasi\n",
    "- Tujuan\n",
    "    Menentukan dependency project dan membuat environment reproducible.\n",
    "- Langkah-Langkah\n",
    "    •\tNotebook awal step ini (01_environment_setup.ipynb) dibuat\n",
    "    •\tVirtual environment aktif\n",
    "    •\tFile requirements.txt dibuat"
   ]
  },
  {
   "cell_type": "code",
   "execution_count": null,
   "id": "539c740c-4978-4c71-9745-f83416835ce6",
   "metadata": {},
   "outputs": [],
   "source": [
    "1. Install dependency awal, butuh minimal:\n",
    "    - Flask atau FastAPI (rekomen FastAPI untuk API modern)\n",
    "    - Uvicorn (jika pakai FastAPI)\n",
    "        Fungsi: ASGI server untuk run web app berbasis python\n",
    "    - Jupyter Notebook"
   ]
  },
  {
   "cell_type": "code",
   "execution_count": null,
   "id": "2920fe08-6518-4058-af6d-e4342c5dee11",
   "metadata": {},
   "outputs": [],
   "source": [
    "2. Buat virtual environment dan aktifkan (di folder 001-kalkulator-resistor)\n",
    "    python3 -m venv venv\n",
    "    source venv/bin/activate"
   ]
  },
  {
   "cell_type": "code",
   "execution_count": null,
   "id": "87ccb9ae-4885-4284-a985-ba08536f011c",
   "metadata": {},
   "outputs": [],
   "source": [
    "3. Install FastAPI + tools lain\n",
    "    pip install fastapi uvicorn jupyter"
   ]
  },
  {
   "cell_type": "code",
   "execution_count": null,
   "id": "c5d6c1a8-1fb9-45ed-94ad-6ebe833332c9",
   "metadata": {},
   "outputs": [],
   "source": [
    "4. Simpan dependency di requirements.txt (terbentuk file di dir project ini)\n",
    "    pip freeze > requirements.txt\n",
    "    -> untuk mencatat tools + versi yang digunakan\n",
    "    -> bisa untuk install di tempat lain dengan:\n",
    "        pip install -r requirements.txt\n",
    "    -> cek di terminal:\n",
    "        ls -l"
   ]
  }
 ],
 "metadata": {
  "kernelspec": {
   "display_name": "Python 3 (ipykernel)",
   "language": "python",
   "name": "python3"
  },
  "language_info": {
   "codemirror_mode": {
    "name": "ipython",
    "version": 3
   },
   "file_extension": ".py",
   "mimetype": "text/x-python",
   "name": "python",
   "nbconvert_exporter": "python",
   "pygments_lexer": "ipython3",
   "version": "3.12.3"
  }
 },
 "nbformat": 4,
 "nbformat_minor": 5
}
