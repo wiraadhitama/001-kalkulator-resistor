{
 "cells": [
  {
   "cell_type": "code",
   "execution_count": null,
   "id": "4dc39b44-8f68-4602-b375-389df39bbe9f",
   "metadata": {},
   "outputs": [],
   "source": [
    "# Project Planning\n",
    "- Deskripsi proyek\n",
    "    Project: Kalkulator Resistor 3, 4, 5, dan 6 bands\n",
    "    Platform Dev: WSL2 (Ubuntu)\n",
    "    Workflow: Linux CLI + Git + Jupyter Notebook Dokumentasi\n",
    "- Tujuan\n",
    "    • Membuat backend API untuk Kalkulator Resistor.\n",
    "    • Backend ini akan menerima input (warna resistor) dan mengembalikan nilai resistansinya.\n",
    "    • Menggunakan FastAPI (karena ringan, cepat, cocok untuk proyek kecil-menengah).\n",
    "    • Menyiapkan endpoint API sederhana.\n",
    "- Langkah-Langkah\n",
    "    • Buat struktur di Linux\n",
    "    • Pastikan struktur di Git bersih\n",
    "    • Gambar atau screenshot pohon direktori.\n",
    "    • Penjelasan kenapa folder dibagi seperti itu:\n",
    "    • src/ → semua source code supaya rapi.\n",
    "    • tests/ → memisahkan testing dari kode utama.\n",
    "    • notebooks/ → semua catatan eksperimen & dokumentasi.\n",
    "    • .gitignore → mencegah file tidak penting masuk repo.\n",
    "    • Catat perintah Git yang digunakan."
   ]
  }
 ],
 "metadata": {
  "kernelspec": {
   "display_name": "Python 3 (ipykernel)",
   "language": "python",
   "name": "python3"
  },
  "language_info": {
   "codemirror_mode": {
    "name": "ipython",
    "version": 3
   },
   "file_extension": ".py",
   "mimetype": "text/x-python",
   "name": "python",
   "nbconvert_exporter": "python",
   "pygments_lexer": "ipython3",
   "version": "3.12.3"
  }
 },
 "nbformat": 4,
 "nbformat_minor": 5
}
