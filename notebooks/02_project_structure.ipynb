{
 "cells": [
  {
   "cell_type": "code",
   "execution_count": null,
   "id": "34ce0af7-1520-4c5a-9069-acbe6d453f0a",
   "metadata": {},
   "outputs": [],
   "source": [
    "# Project Planning\n",
    "- Deskripsi proyek\n",
    "    Project: Kalkulator Resistor 3, 4, 5, dan 6 bands\n",
    "    Platform Dev: WSL2 (Ubuntu)\n",
    "    Workflow: Linux CLI + Git + Jupyter Notebook Dokumentasi\n",
    "- Tujuan\n",
    "    • Membuat struktur folder standar untuk proyek Python.\n",
    "    • Mengatur Git workflow (branch main dan dev).\n",
    "    • Menambahkan dokumentasi struktur proyek ke notebook.\n",
    "- Langkah-Langkah\n",
    "    • Buat struktur di Linux\n",
    "    • Pastikan struktur di Git bersih\n",
    "    • Gambar atau screenshot pohon direktori.\n",
    "    • Penjelasan kenapa folder dibagi seperti itu:\n",
    "    • src/ → semua source code supaya rapi.\n",
    "    • tests/ → memisahkan testing dari kode utama.\n",
    "    • notebooks/ → semua catatan eksperimen & dokumentasi.\n",
    "    • .gitignore → mencegah file tidak penting masuk repo.\n",
    "    • Catat perintah Git yang digunakan."
   ]
  },
  {
   "cell_type": "code",
   "execution_count": null,
   "id": "2d30f11c-a0e0-4a95-9c75-8e77be3e171e",
   "metadata": {},
   "outputs": [],
   "source": [
    "1. Buat struktur directory di Linux:\n",
    "001-kalkulator-resistor/\n",
    "│\n",
    "├── notebooks/              # Semua Jupyter Notebook dokumentasi\n",
    "│   ├── 00_planning_and_setup.ipynb\n",
    "│   ├── 01_environment_setup.ipynb\n",
    "│   └── 02_project_structure.ipynb\n",
    "│\n",
    "├── src/                    # Source code backend & logic\n",
    "│   ├── __init__.py\n",
    "│   └── main.py\n",
    "│\n",
    "├── tests/                  # Unit & integration tests\n",
    "│   └── __init__.py\n",
    "│\n",
    "├── requirements.txt        # Daftar dependencies\n",
    "├── .gitignore              # File/folder yang diabaikan Git\n",
    "├── README.md               # Dokumentasi proyek\n",
    "└── venv/                   # Virtual environment (jangan di-track Git)"
   ]
  },
  {
   "cell_type": "code",
   "execution_count": null,
   "id": "6a5c32a8-d8f4-4e93-9804-69a4f16af55c",
   "metadata": {},
   "outputs": [],
   "source": [
    "2. Alur kerja di Git\n",
    "    a. Pastikan di branch \"main\" bersih\n",
    "    b. "
   ]
  }
 ],
 "metadata": {
  "kernelspec": {
   "display_name": "Python 3 (ipykernel)",
   "language": "python",
   "name": "python3"
  },
  "language_info": {
   "codemirror_mode": {
    "name": "ipython",
    "version": 3
   },
   "file_extension": ".py",
   "mimetype": "text/x-python",
   "name": "python",
   "nbconvert_exporter": "python",
   "pygments_lexer": "ipython3",
   "version": "3.12.3"
  }
 },
 "nbformat": 4,
 "nbformat_minor": 5
}
